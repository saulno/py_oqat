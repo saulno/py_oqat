{
 "cells": [
  {
   "cell_type": "code",
   "execution_count": 1,
   "metadata": {},
   "outputs": [],
   "source": [
    "import pandas as pd\n",
    "import numpy as np\n",
    "\n",
    "#  plot confusion matrices\n",
    "import matplotlib.pyplot as plt\n",
    "import seaborn as sns\n",
    "\n",
    "from sklearn.metrics import confusion_matrix\n",
    "from sklearn.tree import DecisionTreeClassifier\n",
    "from sklearn import preprocessing\n",
    "from sklearn.model_selection import train_test_split\n",
    "\n",
    "\n",
    "import sys\n",
    "sys.path.insert(1, '../../')\n",
    "from py_oqat.config_algorithms import ACOConfig\n",
    "from py_oqat.classifier import OQATClassifier"
   ]
  },
  {
   "cell_type": "code",
   "execution_count": 2,
   "metadata": {},
   "outputs": [],
   "source": [
    "SEED = 42\n",
    "\n",
    "def pretty_print_confusion_matrix(confusion_matrix):\n",
    "    for row in confusion_matrix:\n",
    "        print(row)\n",
    "\n",
    "def plot_confusion_matrix(cm, classes, normalize=False, title='Confusion matrix', cmap=plt.cm.Blues):\n",
    "    \"\"\"\n",
    "    This function prints and plots the confusion matrix.\n",
    "    Normalization can be applied by setting `normalize=True`.\n",
    "    \"\"\"\n",
    "    if normalize:\n",
    "        cm = cm.astype('float') / cm.sum(axis=1)[:, np.newaxis]\n",
    "        \n",
    "    # print(cm)\n",
    "\n",
    "    df_cm = pd.DataFrame(cm, index = [i for i in classes],\n",
    "                  columns = [i for i in classes])\n",
    "    plt.figure(figsize = (7,5))\n",
    "    sns.heatmap(df_cm, annot=True, cmap=cmap)\n",
    "\n",
    "    plt.title(title)\n",
    "    plt.ylabel('True label')\n",
    "    plt.xlabel('Predicted label')\n",
    "    plt.show()\n"
   ]
  },
  {
   "cell_type": "code",
   "execution_count": 3,
   "metadata": {},
   "outputs": [
    {
     "name": "stdout",
     "output_type": "stream",
     "text": [
      "(1728, 6)\n",
      "(1728,)\n",
      "(691, 6)\n",
      "(691,)\n",
      "(1037, 6)\n",
      "(1037,)\n",
      "Distribution of training data\n",
      "0    472\n",
      "1    161\n",
      "3     30\n",
      "2     28\n",
      "dtype: int64\n"
     ]
    }
   ],
   "source": [
    "df = pd.read_csv('../../datasets/car.csv')\n",
    "\n",
    "# Separate features and labels into two dataframes\n",
    "X = df.drop('class', axis=1)\n",
    "y = df['class']\n",
    "\n",
    "# Define the feature type for each column (discrete or continuous)\n",
    "column_names = X.columns.to_list()\n",
    "column_types = ['cat', 'cat', 'cat', 'cat', 'cat', 'cat']\n",
    "\n",
    "# transform the dataframes into a numpy array\n",
    "X = X.values\n",
    "y = y.values\n",
    "\n",
    "print(X.shape)\n",
    "print(y.shape)\n",
    "\n",
    "# Split the data into training and testing sets\n",
    "X_train, X_test, y_train, y_test = train_test_split(X, y, test_size=0.6, random_state=SEED)\n",
    "print(X_train.shape)\n",
    "print(y_train.shape)\n",
    "print(X_test.shape)\n",
    "print(y_test.shape)\n",
    "\n",
    "# Training data distribution\n",
    "print(\"Distribution of training data\")\n",
    "print(pd.Series(y_train).value_counts())\n"
   ]
  },
  {
   "cell_type": "code",
   "execution_count": 4,
   "metadata": {},
   "outputs": [
    {
     "name": "stdout",
     "output_type": "stream",
     "text": [
      "Model 1, number of clauses: 18\n",
      "Model 2, number of clauses: 18\n",
      "Model 3, number of clauses: 17\n",
      "Model 4, number of clauses: 17\n",
      "Model 5, number of clauses: 17\n",
      "Model 6, number of clauses: 17\n",
      "Model 7, number of clauses: 17\n",
      "Model 8, number of clauses: 16\n",
      "Model 9, number of clauses: 17\n",
      "Model 10, number of clauses: 16\n"
     ]
    }
   ],
   "source": [
    "# Hypothesis: the most concise models classify better\n",
    "# We can meassure ow concise a model is by counting the number of cliques (disjunctive clauses)\n",
    "\n",
    "n_experiments = 20\n",
    "learning_class = 1\n",
    "classifiers = []\n",
    "n_cycles = [2*i for i in range(1, 11)]\n",
    "n_ants = [2*i for i in range(1, 11)]\n",
    "for i in range(10):\n",
    "    aco_config = ACOConfig(algorithm=\"vertex-ac\", cycles=n_cycles[i], ants=n_ants[i], alpha=1, rho=0.99, tau_max=6., tau_min=0.01)\n",
    "    classifier = OQATClassifier(collision_strategy=\"best_score\", null_strategy=\"weighted\", heuristic=\"aco\", heuristic_config=aco_config)\n",
    "    classifier.fit(X_train, y_train, column_names, column_types, n_discrete_bins=3, learn_classes=[learning_class])\n",
    "    classifiers.append(classifier)\n",
    "    print(f\"Model {i + 1}, number of clauses: {len(classifier.model[learning_class]['cnf_weights'])}\")"
   ]
  },
  {
   "cell_type": "code",
   "execution_count": 5,
   "metadata": {},
   "outputs": [
    {
     "data": {
      "image/png": "[encoded data removed]",
      "text/plain": [
       "<Figure size 640x480 with 1 Axes>"
      ]
     },
     "metadata": {},
     "output_type": "display_data"
    }
   ],
   "source": [
    "# Plot the acc wrt the number of clauses\n",
    "# Hypptheses, the more clauses the worse the accuracy\n",
    "\n",
    "accuracies = []\n",
    "n_clauses = []\n",
    "for classifier in classifiers:\n",
    "    accuracies.append(classifier.model[learning_class][\"score\"])\n",
    "    n_clauses.append(len(classifier.model[learning_class][\"cnf_weights\"]))\n",
    "\n",
    "\n",
    "plt.plot(n_clauses, accuracies, 'o')\n",
    "plt.xlabel(\"Number of clauses\")\n",
    "plt.ylabel(\"Accuracy\")\n",
    "plt.show()"
   ]
  },
  {
   "cell_type": "code",
   "execution_count": 6,
   "metadata": {},
   "outputs": [
    {
     "name": "stdout",
     "output_type": "stream",
     "text": [
      "(259, 6)\n",
      "(259,)\n",
      "(1469, 6)\n",
      "(1469,)\n",
      "Distribution of training data\n",
      "0    168\n",
      "1     64\n",
      "2     14\n",
      "3     13\n",
      "dtype: int64\n",
      "Model 1, number of clauses: 13\n",
      "Model 2, number of clauses: 11\n",
      "Model 3, number of clauses: 10\n",
      "Model 4, number of clauses: 10\n",
      "Model 5, number of clauses: 11\n",
      "Model 6, number of clauses: 10\n"
     ]
    }
   ],
   "source": [
    "test_size = 0.85\n",
    "\n",
    "X_train, X_test, y_train, y_test = train_test_split(X, y, test_size=test_size, random_state=SEED)\n",
    "print(X_train.shape)\n",
    "print(y_train.shape)\n",
    "print(X_test.shape)\n",
    "print(y_test.shape)\n",
    "\n",
    "# Training data distribution\n",
    "print(\"Distribution of training data\")\n",
    "print(pd.Series(y_train).value_counts())\n",
    "\n",
    "# Hypothesis: the most concise models classify better\n",
    "# We can meassure ow concise a model is by counting the number of cliques (disjunctive clauses)\n",
    "\n",
    "n_experiments = 40\n",
    "learning_class = 1\n",
    "classifiers = []\n",
    "n_cycles = [2*i for i in range(1, 11)]\n",
    "n_ants = [2*i for i in range(1, 11)]\n",
    "for i in range(10):\n",
    "    aco_config = ACOConfig(algorithm=\"vertex-ac\", cycles=n_cycles[i], ants=n_ants[i], alpha=1, rho=0.99, tau_max=6., tau_min=0.01)\n",
    "    classifier = OQATClassifier(collision_strategy=\"best_score\", null_strategy=\"weighted\", heuristic=\"aco\", heuristic_config=aco_config)\n",
    "    classifier.fit(X_train, y_train, column_names, column_types, n_discrete_bins=3, learn_classes=[learning_class])\n",
    "    classifiers.append(classifier)\n",
    "    print(f\"Model {i + 1}, number of clauses: {len(classifier.model[learning_class]['cnf_weights'])}\")"
   ]
  },
  {
   "cell_type": "code",
   "execution_count": null,
   "metadata": {},
   "outputs": [
    {
     "data": {
      "image/png": "[encoded data removed]",
      "text/plain": [
       "<Figure size 640x480 with 1 Axes>"
      ]
     },
     "metadata": {},
     "output_type": "display_data"
    }
   ],
   "source": [
    "accuracies = []\n",
    "n_clauses = []\n",
    "for classifier in classifiers:\n",
    "    accuracies.append(classifier.model[learning_class][\"score\"])\n",
    "    n_clauses.append(len(classifier.model[learning_class][\"cnf_weights\"]))\n",
    "\n",
    "\n",
    "plt.plot(n_clauses, accuracies, 'o')\n",
    "plt.xlabel(\"Number of clauses\")\n",
    "plt.ylabel(\"Accuracy\")\n",
    "plt.show()"
   ]
  }
 ],
 "metadata": {
  "kernelspec": {
   "display_name": ".env",
   "language": "python",
   "name": "python3"
  },
  "language_info": {
   "codemirror_mode": {
    "name": "ipython",
    "version": 3
   },
   "file_extension": ".py",
   "mimetype": "text/x-python",
   "name": "python",
   "nbconvert_exporter": "python",
   "pygments_lexer": "ipython3",
   "version": "3.11.2"
  },
  "orig_nbformat": 4
 },
 "nbformat": 4,
 "nbformat_minor": 2
}
