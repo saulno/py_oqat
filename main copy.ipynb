{
 "cells": [
  {
   "cell_type": "code",
   "execution_count": 1,
   "metadata": {},
   "outputs": [],
   "source": [
    "import pandas as pd\n",
    "import numpy as np\n",
    "from sklearn import preprocessing\n",
    "from sklearn.model_selection import train_test_split\n",
    "from config_algorithms import ACOConfig\n",
    "from oqat import OQATClassifier, OQATModel\n",
    "from imblearn.over_sampling import SMOTE\n",
    "from sklearn.tree import DecisionTreeClassifier\n",
    "from sklearn import tree\n",
    "from sklearn.metrics import confusion_matrix\n"
   ]
  },
  {
   "cell_type": "code",
   "execution_count": 2,
   "metadata": {},
   "outputs": [],
   "source": [
    "SEED = 42\n",
    "\n",
    "def pretty_print_confusion_matrix(confusion_matrix):\n",
    "    for row in confusion_matrix:\n",
    "        print(row)"
   ]
  },
  {
   "cell_type": "code",
   "execution_count": 3,
   "metadata": {},
   "outputs": [],
   "source": [
    "# Read csv file and load it into a numpy array\n",
    "# df = pd.read_csv('datasets/test2.csv')\n",
    "df = pd.read_csv('datasets/hayes_roth.csv')\n",
    "# df = pd.read_csv('datasets/car.csv')\n",
    "\n",
    "\n",
    "# Separate features and labels into two dataframes\n",
    "X = df.drop('class', axis=1)\n",
    "y = df['class']\n",
    "\n",
    "# Define the feature type for each column (discrete or continuous)\n",
    "column_names = X.columns.to_list()\n",
    "column_types = ['cat', 'cat', 'cat']\n",
    "\n",
    "# transform the dataframes into a numpy array\n",
    "X = X.values\n",
    "y = y.values"
   ]
  },
  {
   "cell_type": "code",
   "execution_count": 4,
   "metadata": {},
   "outputs": [],
   "source": [
    "# Transform the string labels into integers\n",
    "X = preprocessing.OrdinalEncoder().fit_transform(X)\n",
    "y = preprocessing.LabelEncoder().fit_transform(y)\n",
    "\n",
    "# Split the data into training and testing sets\n",
    "X_train, X_test, y_train, y_test = train_test_split(X, y, test_size=0.2, random_state=SEED)"
   ]
  },
  {
   "cell_type": "code",
   "execution_count": 5,
   "metadata": {},
   "outputs": [
    {
     "name": "stdout",
     "output_type": "stream",
     "text": [
      "Before SMOTE\n",
      "1    43\n",
      "0    39\n",
      "2    23\n",
      "dtype: int64\n"
     ]
    }
   ],
   "source": [
    "# Balance the training set\n",
    "\n",
    "print(\"Before SMOTE\")\n",
    "print(pd.Series(y_train).value_counts())\n",
    "# smote = SMOTE()\n",
    "# X_train, y_train = smote.fit_resample(X_train, y_train)\n",
    "# print(\"After SMOTE\")\n",
    "# print(pd.Series(y_train).value_counts())"
   ]
  },
  {
   "cell_type": "code",
   "execution_count": 6,
   "metadata": {},
   "outputs": [
    {
     "name": "stdout",
     "output_type": "stream",
     "text": [
      "Decision Tree\n",
      "[8 4 0]\n",
      "[2 6 0]\n",
      "[0 0 7]\n",
      "Score:  0.7777777777777778\n",
      "|--- feature_1 <= 2.50\n",
      "|   |--- feature_2 <= 2.50\n",
      "|   |   |--- feature_3 <= 2.50\n",
      "|   |   |   |--- feature_2 <= 0.50\n",
      "|   |   |   |   |--- feature_3 <= 0.50\n",
      "|   |   |   |   |   |--- class: 0\n",
      "|   |   |   |   |--- feature_3 >  0.50\n",
      "|   |   |   |   |   |--- feature_1 <= 0.50\n",
      "|   |   |   |   |   |   |--- class: 0\n",
      "|   |   |   |   |   |--- feature_1 >  0.50\n",
      "|   |   |   |   |   |   |--- feature_3 <= 1.50\n",
      "|   |   |   |   |   |   |   |--- class: 1\n",
      "|   |   |   |   |   |   |--- feature_3 >  1.50\n",
      "|   |   |   |   |   |   |   |--- feature_0 <= 0.50\n",
      "|   |   |   |   |   |   |   |   |--- class: 1\n",
      "|   |   |   |   |   |   |   |--- feature_0 >  0.50\n",
      "|   |   |   |   |   |   |   |   |--- feature_0 <= 1.50\n",
      "|   |   |   |   |   |   |   |   |   |--- feature_1 <= 1.50\n",
      "|   |   |   |   |   |   |   |   |   |   |--- class: 0\n",
      "|   |   |   |   |   |   |   |   |   |--- feature_1 >  1.50\n",
      "|   |   |   |   |   |   |   |   |   |   |--- class: 0\n",
      "|   |   |   |   |   |   |   |   |--- feature_0 >  1.50\n",
      "|   |   |   |   |   |   |   |   |   |--- class: 0\n",
      "|   |   |   |--- feature_2 >  0.50\n",
      "|   |   |   |   |--- feature_1 <= 0.50\n",
      "|   |   |   |   |   |--- feature_3 <= 0.50\n",
      "|   |   |   |   |   |   |--- class: 0\n",
      "|   |   |   |   |   |--- feature_3 >  0.50\n",
      "|   |   |   |   |   |   |--- feature_2 <= 1.50\n",
      "|   |   |   |   |   |   |   |--- class: 1\n",
      "|   |   |   |   |   |   |--- feature_2 >  1.50\n",
      "|   |   |   |   |   |   |   |--- feature_3 <= 1.50\n",
      "|   |   |   |   |   |   |   |   |--- feature_0 <= 0.50\n",
      "|   |   |   |   |   |   |   |   |   |--- class: 0\n",
      "|   |   |   |   |   |   |   |   |--- feature_0 >  0.50\n",
      "|   |   |   |   |   |   |   |   |   |--- feature_0 <= 1.50\n",
      "|   |   |   |   |   |   |   |   |   |   |--- class: 1\n",
      "|   |   |   |   |   |   |   |   |   |--- feature_0 >  1.50\n",
      "|   |   |   |   |   |   |   |   |   |   |--- class: 0\n",
      "|   |   |   |   |   |   |   |--- feature_3 >  1.50\n",
      "|   |   |   |   |   |   |   |   |--- class: 0\n",
      "|   |   |   |   |--- feature_1 >  0.50\n",
      "|   |   |   |   |   |--- feature_1 <= 1.50\n",
      "|   |   |   |   |   |   |--- class: 1\n",
      "|   |   |   |   |   |--- feature_1 >  1.50\n",
      "|   |   |   |   |   |   |--- feature_0 <= 0.50\n",
      "|   |   |   |   |   |   |   |--- class: 0\n",
      "|   |   |   |   |   |   |--- feature_0 >  0.50\n",
      "|   |   |   |   |   |   |   |--- feature_3 <= 0.50\n",
      "|   |   |   |   |   |   |   |   |--- feature_2 <= 1.50\n",
      "|   |   |   |   |   |   |   |   |   |--- feature_0 <= 1.50\n",
      "|   |   |   |   |   |   |   |   |   |   |--- class: 1\n",
      "|   |   |   |   |   |   |   |   |   |--- feature_0 >  1.50\n",
      "|   |   |   |   |   |   |   |   |   |   |--- class: 1\n",
      "|   |   |   |   |   |   |   |   |--- feature_2 >  1.50\n",
      "|   |   |   |   |   |   |   |   |   |--- class: 0\n",
      "|   |   |   |   |   |   |   |--- feature_3 >  0.50\n",
      "|   |   |   |   |   |   |   |   |--- class: 1\n",
      "|   |   |--- feature_3 >  2.50\n",
      "|   |   |   |--- class: 2\n",
      "|   |--- feature_2 >  2.50\n",
      "|   |   |--- class: 2\n",
      "|--- feature_1 >  2.50\n",
      "|   |--- class: 2\n",
      "\n"
     ]
    }
   ],
   "source": [
    "# Run a classification tree algorithm from sklearn\n",
    "tree_model = DecisionTreeClassifier()\n",
    "tree_model.fit(X_train, y_train)\n",
    "y_pred = tree_model.predict(X_test)\n",
    "cf = confusion_matrix(y_test, y_pred)\n",
    "print(\"Decision Tree\")\n",
    "pretty_print_confusion_matrix(cf)\n",
    "print(\"Score: \", tree_model.score(X_test, y_test))\n",
    "text_repr = tree.export_text(tree_model)\n",
    "print(text_repr)"
   ]
  },
  {
   "cell_type": "code",
   "execution_count": 7,
   "metadata": {},
   "outputs": [
    {
     "name": "stdout",
     "output_type": "stream",
     "text": [
      "Model for class 0 created\n",
      "Score: 0.71875\n",
      "Model for class 1 created\n",
      "Score: 0.875\n",
      "Model for class 2 created\n",
      "Score: 1.0\n",
      "{0: {'oqat_model': (([age=0.0] ∨ [marital=2.0] ∨ [marital=0.0]) ∧ ([age=0.0] ∨ [age=2.0] ∨ [education=0.0] ∨ [marital=1.0]) ∧ ([age=1.0] ∨ [education=2.0] ∨ [education=1.0] ∨ [marital=1.0] ∨ [marital=2.0]) ∧ ([hobby=0.0] ∨ [hobby=1.0] ∨ [age=2.0] ∨ [age=1.0] ∨ [education=2.0] ∨ [education=0.0] ∨ [marital=0.0] ∨ [marital=2.0]) ∧ ([hobby=2.0] ∨ [hobby=0.0] ∨ [age=2.0] ∨ [age=1.0] ∨ [education=1.0] ∨ [education=0.0] ∨ [marital=0.0] ∨ [marital=2.0]) ∧ ([hobby=1.0] ∨ [hobby=2.0] ∨ [age=2.0] ∨ [age=0.0] ∨ [education=2.0] ∨ [education=1.0] ∨ [marital=1.0] ∨ [marital=0.0]) ∧ ([hobby=1.0] ∨ [hobby=2.0] ∨ [age=1.0] ∨ [age=2.0] ∨ [education=1.0] ∨ [education=0.0] ∨ [marital=2.0] ∨ [marital=0.0]) ∧ ([hobby=0.0] ∨ [hobby=1.0] ∨ [age=1.0] ∨ [age=0.0] ∨ [education=0.0] ∨ [education=2.0] ∨ [marital=2.0] ∨ [marital=1.0]) ∧ ([hobby=2.0] ∨ [hobby=1.0] ∨ [age=1.0] ∨ [age=2.0] ∨ [education=0.0] ∨ [education=1.0] ∨ [marital=0.0] ∨ [marital=2.0]) ∧ ([hobby=0.0] ∨ [hobby=2.0] ∨ [age=1.0] ∨ [age=0.0] ∨ [education=0.0] ∨ [education=2.0] ∨ [marital=1.0] ∨ [marital=2.0]) ∧ ([hobby=2.0] ∨ [hobby=0.0] ∨ [age=0.0] ∨ [age=1.0] ∨ [education=0.0] ∨ [education=2.0] ∨ [marital=1.0] ∨ [marital=2.0]) ∧ ([hobby=1.0] ∨ [hobby=0.0] ∨ [age=2.0] ∨ [age=1.0] ∨ [education=1.0] ∨ [education=0.0] ∨ [marital=0.0] ∨ [marital=2.0]) ∧ ([hobby=2.0] ∨ [hobby=1.0] ∨ [age=0.0] ∨ [age=1.0] ∨ [education=2.0] ∨ [education=0.0] ∨ [marital=1.0] ∨ [marital=2.0])), 'cnf_weights': [18, 10, 3, 2, 2, 2, 1, 1, 1, 1, 1, 1, 1], 'cnf_weights_norm': [0.4090909090909091, 0.22727272727272727, 0.06818181818181818, 0.045454545454545456, 0.045454545454545456, 0.045454545454545456, 0.022727272727272728, 0.022727272727272728, 0.022727272727272728, 0.022727272727272728, 0.022727272727272728, 0.022727272727272728, 0.022727272727272728], 'score': 0.71875}, 1: {'oqat_model': (([age=1.0] ∨ [education=1.0] ∨ [education=2.0]) ∧ ([age=2.0] ∨ [age=1.0] ∨ [education=0.0] ∨ [marital=2.0] ∨ [marital=1.0]) ∧ ([hobby=0.0] ∨ [age=0.0] ∨ [education=1.0] ∨ [marital=1.0]) ∧ ([hobby=2.0] ∨ [hobby=1.0] ∨ [age=0.0] ∨ [age=2.0] ∨ [education=2.0] ∨ [education=1.0] ∨ [marital=1.0] ∨ [marital=2.0]) ∧ ([hobby=1.0] ∨ [hobby=0.0] ∨ [age=0.0] ∨ [age=2.0] ∨ [education=0.0] ∨ [marital=0.0] ∨ [marital=2.0]) ∧ ([hobby=1.0] ∨ [hobby=2.0] ∨ [age=2.0] ∨ [age=1.0] ∨ [education=1.0] ∨ [education=0.0] ∨ [marital=0.0] ∨ [marital=2.0]) ∧ ([hobby=2.0] ∨ [hobby=0.0] ∨ [age=0.0] ∨ [age=1.0] ∨ [education=2.0] ∨ [education=0.0] ∨ [marital=1.0] ∨ [marital=2.0]) ∧ ([hobby=0.0] ∨ [hobby=1.0] ∨ [age=2.0] ∨ [age=1.0] ∨ [education=1.0] ∨ [education=0.0] ∨ [marital=0.0] ∨ [marital=2.0]) ∧ ([hobby=1.0] ∨ [hobby=2.0] ∨ [age=1.0] ∨ [age=0.0] ∨ [education=2.0] ∨ [education=0.0] ∨ [marital=1.0] ∨ [marital=2.0]) ∧ ([hobby=2.0] ∨ [hobby=1.0] ∨ [age=2.0] ∨ [age=1.0] ∨ [education=1.0] ∨ [education=0.0] ∨ [marital=2.0] ∨ [marital=0.0])), 'cnf_weights': [16, 9, 8, 3, 2, 1, 1, 1, 1, 1], 'cnf_weights_norm': [0.37209302325581395, 0.20930232558139536, 0.18604651162790697, 0.06976744186046512, 0.046511627906976744, 0.023255813953488372, 0.023255813953488372, 0.023255813953488372, 0.023255813953488372, 0.023255813953488372], 'score': 0.875}, 2: {'oqat_model': (([age=3.0] ∨ [education=3.0] ∨ [marital=3.0])), 'cnf_weights': [59], 'cnf_weights_norm': [1.0], 'score': 1.0}}\n",
      "[1, 1, -1, 0, 0, 1, 1, 0, 2, 0, 0, 1, 0, 2, 2, 0, 1, 1, 1, 0, 1, 0, 0, 2, 2, -1, 2]\n",
      "OQAT\n",
      "[7, 3, 0]\n",
      "[2, 6, 0]\n",
      "[1, 0, 6]\n",
      "Score:  0.76\n"
     ]
    }
   ],
   "source": [
    "# # Run the OQAT algorithm\n",
    "aco_config = ACOConfig(algorithm=\"vertex-ac\", cycles=20, ants=10, alpha=1, rho=0.99, tau_max=6., tau_min=0.01)\n",
    "classifier = OQATClassifier(collision_strategy=\"random\", heuristic=\"aco\", heuristic_config=aco_config)\n",
    "classifier.fit(X_train, y_train, column_names, column_types)\n",
    "print(classifier.model)\n",
    "y_pred = classifier.predict(X_test, column_names)\n",
    "print(y_pred)\n",
    "cf = classifier.confusion_matrix(y_pred, y_test)\n",
    "print(\"OQAT\")\n",
    "pretty_print_confusion_matrix(cf)\n",
    "print(\"Score: \", classifier.score(y_pred, y_test))"
   ]
  },
  {
   "cell_type": "code",
   "execution_count": 8,
   "metadata": {},
   "outputs": [
    {
     "name": "stdout",
     "output_type": "stream",
     "text": [
      "[{1}, {1}, set(), {0}, {0}, {1}, {1}, {0}, {2}, {0}, {0}, {0, 1}, {0}, {2}, {2}, {0}, {0, 1}, {1}, {1}, {0, 2}, {1}, {0}, {0}, {2}, {1, 2}, set(), {0, 2}]\n"
     ]
    }
   ],
   "source": [
    "classifier.collision_strategy = \"None\"\n",
    "y_pred_2 = classifier.predict(X_test, column_names)\n",
    "print(y_pred_2)"
   ]
  },
  {
   "cell_type": "code",
   "execution_count": 9,
   "metadata": {},
   "outputs": [
    {
     "name": "stdout",
     "output_type": "stream",
     "text": [
      "[1, 1, -1, 0, 0, 1, 1, 0, 2, 0, 0, 1, 0, 2, 2, 0, 1, 1, 1, 2, 1, 0, 0, 2, 2, -1, 2]\n",
      "[7, 3, 0]\n",
      "[2, 6, 0]\n",
      "[0, 0, 7]\n",
      "Score:  0.8\n"
     ]
    }
   ],
   "source": [
    "classifier.collision_strategy = \"best_score\"\n",
    "y_pred_3 = classifier.predict(X_test, column_names)\n",
    "print(y_pred_3)\n",
    "cf3 = classifier.confusion_matrix(y_pred_3, y_test)\n",
    "pretty_print_confusion_matrix(cf3)\n",
    "print(\"Score: \", classifier.score(y_pred_3, y_test))"
   ]
  },
  {
   "cell_type": "code",
   "execution_count": 10,
   "metadata": {},
   "outputs": [
    {
     "name": "stdout",
     "output_type": "stream",
     "text": [
      "[1, 1, 0, 0, 0, 1, 1, 0, 2, 0, 0, 0, 0, 2, 2, 0, 0, 1, 1, 2, 1, 0, 0, 2, 2, 0, 2]\n",
      "[9, 3, 0]\n",
      "[4, 4, 0]\n",
      "[0, 0, 7]\n",
      "Score:  0.7407407407407407\n"
     ]
    }
   ],
   "source": [
    "classifier.collision_strategy = \"weights\"\n",
    "weights = classifier.predict(X_test, column_names)\n",
    "\n",
    "classifier.collision_strategy = \"weighted\"\n",
    "y_pred_4 = classifier.predict(X_test, column_names)\n",
    "print(y_pred_4)\n",
    "cf4 = classifier.confusion_matrix(y_pred_4, y_test)\n",
    "pretty_print_confusion_matrix(cf4)\n",
    "print(\"Score: \", classifier.score(y_pred_4, y_test))"
   ]
  },
  {
   "cell_type": "code",
   "execution_count": 11,
   "metadata": {},
   "outputs": [
    {
     "name": "stdout",
     "output_type": "stream",
     "text": [
      "Class: 0\n",
      "Score: 0.71875\n",
      "\t 18  Clause: ([age=0.0] ∨ [marital=2.0] ∨ [marital=0.0])\n",
      "\t 10  Clause: ([age=0.0] ∨ [age=2.0] ∨ [education=0.0] ∨ [marital=1.0])\n",
      "\t 3   Clause: ([age=1.0] ∨ [education=2.0] ∨ [education=1.0] ∨ [marital=1.0] ∨ [marital=2.0])\n",
      "\t 2   Clause: ([hobby=0.0] ∨ [hobby=1.0] ∨ [age=2.0] ∨ [age=1.0] ∨ [education=2.0] ∨ [education=0.0] ∨ [marital=0.0] ∨ [marital=2.0])\n",
      "\t 2   Clause: ([hobby=2.0] ∨ [hobby=0.0] ∨ [age=2.0] ∨ [age=1.0] ∨ [education=1.0] ∨ [education=0.0] ∨ [marital=0.0] ∨ [marital=2.0])\n",
      "\t 2   Clause: ([hobby=1.0] ∨ [hobby=2.0] ∨ [age=2.0] ∨ [age=0.0] ∨ [education=2.0] ∨ [education=1.0] ∨ [marital=1.0] ∨ [marital=0.0])\n",
      "\t 1   Clause: ([hobby=1.0] ∨ [hobby=2.0] ∨ [age=1.0] ∨ [age=2.0] ∨ [education=1.0] ∨ [education=0.0] ∨ [marital=2.0] ∨ [marital=0.0])\n",
      "\t 1   Clause: ([hobby=0.0] ∨ [hobby=1.0] ∨ [age=1.0] ∨ [age=0.0] ∨ [education=0.0] ∨ [education=2.0] ∨ [marital=2.0] ∨ [marital=1.0])\n",
      "\t 1   Clause: ([hobby=2.0] ∨ [hobby=1.0] ∨ [age=1.0] ∨ [age=2.0] ∨ [education=0.0] ∨ [education=1.0] ∨ [marital=0.0] ∨ [marital=2.0])\n",
      "\t 1   Clause: ([hobby=0.0] ∨ [hobby=2.0] ∨ [age=1.0] ∨ [age=0.0] ∨ [education=0.0] ∨ [education=2.0] ∨ [marital=1.0] ∨ [marital=2.0])\n",
      "\t 1   Clause: ([hobby=2.0] ∨ [hobby=0.0] ∨ [age=0.0] ∨ [age=1.0] ∨ [education=0.0] ∨ [education=2.0] ∨ [marital=1.0] ∨ [marital=2.0])\n",
      "\t 1   Clause: ([hobby=1.0] ∨ [hobby=0.0] ∨ [age=2.0] ∨ [age=1.0] ∨ [education=1.0] ∨ [education=0.0] ∨ [marital=0.0] ∨ [marital=2.0])\n",
      "\t 1   Clause: ([hobby=2.0] ∨ [hobby=1.0] ∨ [age=0.0] ∨ [age=1.0] ∨ [education=2.0] ∨ [education=0.0] ∨ [marital=1.0] ∨ [marital=2.0])\n",
      "Class: 1\n",
      "Score: 0.875\n",
      "\t 16  Clause: ([age=1.0] ∨ [education=1.0] ∨ [education=2.0])\n",
      "\t 9   Clause: ([age=2.0] ∨ [age=1.0] ∨ [education=0.0] ∨ [marital=2.0] ∨ [marital=1.0])\n",
      "\t 8   Clause: ([hobby=0.0] ∨ [age=0.0] ∨ [education=1.0] ∨ [marital=1.0])\n",
      "\t 3   Clause: ([hobby=2.0] ∨ [hobby=1.0] ∨ [age=0.0] ∨ [age=2.0] ∨ [education=2.0] ∨ [education=1.0] ∨ [marital=1.0] ∨ [marital=2.0])\n",
      "\t 2   Clause: ([hobby=1.0] ∨ [hobby=0.0] ∨ [age=0.0] ∨ [age=2.0] ∨ [education=0.0] ∨ [marital=0.0] ∨ [marital=2.0])\n",
      "\t 1   Clause: ([hobby=1.0] ∨ [hobby=2.0] ∨ [age=2.0] ∨ [age=1.0] ∨ [education=1.0] ∨ [education=0.0] ∨ [marital=0.0] ∨ [marital=2.0])\n",
      "\t 1   Clause: ([hobby=2.0] ∨ [hobby=0.0] ∨ [age=0.0] ∨ [age=1.0] ∨ [education=2.0] ∨ [education=0.0] ∨ [marital=1.0] ∨ [marital=2.0])\n",
      "\t 1   Clause: ([hobby=0.0] ∨ [hobby=1.0] ∨ [age=2.0] ∨ [age=1.0] ∨ [education=1.0] ∨ [education=0.0] ∨ [marital=0.0] ∨ [marital=2.0])\n",
      "\t 1   Clause: ([hobby=1.0] ∨ [hobby=2.0] ∨ [age=1.0] ∨ [age=0.0] ∨ [education=2.0] ∨ [education=0.0] ∨ [marital=1.0] ∨ [marital=2.0])\n",
      "\t 1   Clause: ([hobby=2.0] ∨ [hobby=1.0] ∨ [age=2.0] ∨ [age=1.0] ∨ [education=1.0] ∨ [education=0.0] ∨ [marital=2.0] ∨ [marital=0.0])\n",
      "Class: 2\n",
      "Score: 1.0\n",
      "\t 59  Clause: ([age=3.0] ∨ [education=3.0] ∨ [marital=3.0])\n",
      "    X           y_test   random     score    weighted  weights   sets\n",
      "[1. 1. 1. 0.]     1         1         1         1     {0: array([34.]), 1: array([43.]), 2: array([0.])} {1}\n",
      "[0. 1. 0. 2.]     0         1         1         1     {0: array([42.]), 1: array([43.]), 2: array([0.])} {1}\n",
      "[2. 0. 2. 1.]     0        -1        -1         0     {0: array([43.]), 1: array([42.]), 2: array([0.])} set()\n",
      "[1. 1. 0. 2.]     0         0         0         0     {0: array([44.]), 1: array([35.]), 2: array([0.])} {0}\n",
      "[1. 0. 1. 0.]     0         0         0         0     {0: array([44.]), 1: array([34.]), 2: array([0.])} {0}\n",
      "[0. 1. 2. 2.]     1         1         1         1     {0: array([34.]), 1: array([43.]), 2: array([0.])} {1}\n",
      "[1. 0. 2. 1.]     0         1         1         1     {0: array([42.]), 1: array([43.]), 2: array([0.])} {1}\n",
      "[1. 0. 1. 0.]     0         0         0         0     {0: array([44.]), 1: array([34.]), 2: array([0.])} {0}\n",
      "[1. 3. 3. 1.]     2         2         2         2     {0: array([24.]), 1: array([27.]), 2: array([59.])} {2}\n",
      "[2. 1. 0. 2.]     1         0         0         0     {0: array([44.]), 1: array([35.]), 2: array([0.])} {0}\n",
      "[2. 0. 1. 0.]     0         0         0         0     {0: array([44.]), 1: array([34.]), 2: array([0.])} {0}\n",
      "[1. 0. 1. 1.]     1         1         1         0     {0: array([44.]), 1: array([43.]), 2: array([0.])} {0, 1}\n",
      "[0. 0. 0. 1.]     0         0         0         0     {0: array([44.]), 1: array([27.]), 2: array([0.])} {0}\n",
      "[0. 0. 2. 3.]     2         2         2         2     {0: array([42.]), 1: array([32.]), 2: array([59.])} {2}\n",
      "[2. 0. 3. 3.]     2         2         2         2     {0: array([38.]), 1: array([17.]), 2: array([59.])} {2}\n",
      "[1. 0. 2. 0.]     0         0         0         0     {0: array([44.]), 1: array([34.]), 2: array([0.])} {0}\n",
      "[0. 0. 1. 1.]     1         1         1         0     {0: array([44.]), 1: array([43.]), 2: array([0.])} {0, 1}\n",
      "[2. 0. 1. 1.]     1         1         1         1     {0: array([42.]), 1: array([43.]), 2: array([0.])} {1}\n",
      "[1. 1. 1. 0.]     1         1         1         1     {0: array([34.]), 1: array([43.]), 2: array([0.])} {1}\n",
      "[0. 0. 1. 3.]     2         0         2         2     {0: array([44.]), 1: array([34.]), 2: array([59.])} {0, 2}\n",
      "[2. 2. 1. 0.]     0         1         1         1     {0: array([43.]), 1: array([43.]), 2: array([0.])} {1}\n",
      "[0. 1. 0. 0.]     0         0         0         0     {0: array([44.]), 1: array([40.]), 2: array([0.])} {0}\n",
      "[2. 1. 0. 2.]     1         0         0         0     {0: array([44.]), 1: array([35.]), 2: array([0.])} {0}\n",
      "[1. 1. 2. 3.]     2         2         2         2     {0: array([16.]), 1: array([35.]), 2: array([59.])} {2}\n",
      "[0. 3. 1. 2.]     2         2         2         2     {0: array([34.]), 1: array([43.]), 2: array([59.])} {1, 2}\n",
      "[1. 2. 1. 0.]     0        -1        -1         0     {0: array([42.]), 1: array([42.]), 2: array([0.])} set()\n",
      "[0. 0. 3. 2.]     2         2         2         2     {0: array([44.]), 1: array([27.]), 2: array([59.])} {0, 2}\n"
     ]
    }
   ],
   "source": [
    "\n",
    "for learning_class, model in classifier.model.items():\n",
    "    print(f'Class: {learning_class}')\n",
    "    print(f'Score: {model[\"score\"]}')\n",
    "    for i, clause in enumerate(model['oqat_model'].model.clauses):\n",
    "        print(f'\\t{model[\"cnf_weights\"][i]: ^4} Clause: {clause}')\n",
    "\n",
    "print(f'    X           y_test   random     score    weighted  weights   sets')\n",
    "for i in range(len(y_test)):\n",
    "    print(X_test[i], f'{y_test[i]: ^9}', f'{y_pred[i]: ^9}', f'{y_pred_3[i]: ^9}', f'{y_pred_4[i]: ^9}', f'{weights[i]}', f'{y_pred_2[i]}')"
   ]
  }
 ],
 "metadata": {
  "kernelspec": {
   "display_name": ".env",
   "language": "python",
   "name": "python3"
  },
  "language_info": {
   "codemirror_mode": {
    "name": "ipython",
    "version": 3
   },
   "file_extension": ".py",
   "mimetype": "text/x-python",
   "name": "python",
   "nbconvert_exporter": "python",
   "pygments_lexer": "ipython3",
   "version": "3.11.2"
  },
  "orig_nbformat": 4,
  "vscode": {
   "interpreter": {
    "hash": "0a29e914712ef84135244ee77708a8fb0d7fa4d04605cc0d1983dcf6b847904f"
   }
  }
 },
 "nbformat": 4,
 "nbformat_minor": 2
}
